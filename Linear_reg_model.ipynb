{
  "nbformat": 4,
  "nbformat_minor": 0,
  "metadata": {
    "colab": {
      "name": "Linear_reg_model",
      "provenance": [],
      "collapsed_sections": []
    },
    "kernelspec": {
      "name": "python3",
      "display_name": "Python 3"
    },
    "language_info": {
      "name": "python"
    }
  },
  "cells": [
    {
      "cell_type": "markdown",
      "metadata": {
        "id": "o7PvlbE6z-Xq"
      },
      "source": [
        "* VAISHNAVI K\n",
        "* 20191CSE0660 \n",
        "* 5CSE12"
      ]
    },
    {
      "cell_type": "markdown",
      "metadata": {
        "id": "c8haQcHdz-IZ"
      },
      "source": [
        "# **Linear Regression Using Weight - Height Dataset** "
      ]
    },
    {
      "cell_type": "markdown",
      "metadata": {
        "id": "zFH_1kVbu3nj"
      },
      "source": [
        "# Step 1-- Data Preprocessing"
      ]
    },
    {
      "cell_type": "markdown",
      "metadata": {
        "id": "FzBZf0TyuEKn"
      },
      "source": [
        "*Importing Libraries*"
      ]
    },
    {
      "cell_type": "code",
      "metadata": {
        "id": "qgTZtMKuuyGV"
      },
      "source": [
        "import numpy as np \n",
        "import pandas as pd \n",
        "import matplotlib.pyplot as plt\n",
        "import os"
      ],
      "execution_count": null,
      "outputs": []
    },
    {
      "cell_type": "markdown",
      "metadata": {
        "id": "3Lao_JBMvdDA"
      },
      "source": [
        "*Load Dataset*"
      ]
    },
    {
      "cell_type": "code",
      "metadata": {
        "id": "QUmd_fMUrgoU"
      },
      "source": [
        "dataset = pd.read_csv(\"/content/weight-height.csv\")"
      ],
      "execution_count": null,
      "outputs": []
    },
    {
      "cell_type": "markdown",
      "metadata": {
        "id": "6zfZf0XOxb_t"
      },
      "source": [
        "*Check the dataset*"
      ]
    },
    {
      "cell_type": "code",
      "metadata": {
        "colab": {
          "base_uri": "https://localhost:8080/",
          "height": 203
        },
        "id": "ht7hkPiSxQwh",
        "outputId": "e021a1a7-861c-4fba-e2ce-70421af1ad0a"
      },
      "source": [
        "dataset.head()"
      ],
      "execution_count": null,
      "outputs": [
        {
          "output_type": "execute_result",
          "data": {
            "text/html": [
              "<div>\n",
              "<style scoped>\n",
              "    .dataframe tbody tr th:only-of-type {\n",
              "        vertical-align: middle;\n",
              "    }\n",
              "\n",
              "    .dataframe tbody tr th {\n",
              "        vertical-align: top;\n",
              "    }\n",
              "\n",
              "    .dataframe thead th {\n",
              "        text-align: right;\n",
              "    }\n",
              "</style>\n",
              "<table border=\"1\" class=\"dataframe\">\n",
              "  <thead>\n",
              "    <tr style=\"text-align: right;\">\n",
              "      <th></th>\n",
              "      <th>Gender</th>\n",
              "      <th>Height</th>\n",
              "      <th>Weight</th>\n",
              "    </tr>\n",
              "  </thead>\n",
              "  <tbody>\n",
              "    <tr>\n",
              "      <th>0</th>\n",
              "      <td>Male</td>\n",
              "      <td>73.847017</td>\n",
              "      <td>241.893563</td>\n",
              "    </tr>\n",
              "    <tr>\n",
              "      <th>1</th>\n",
              "      <td>Male</td>\n",
              "      <td>68.781904</td>\n",
              "      <td>162.310473</td>\n",
              "    </tr>\n",
              "    <tr>\n",
              "      <th>2</th>\n",
              "      <td>Male</td>\n",
              "      <td>74.110105</td>\n",
              "      <td>212.740856</td>\n",
              "    </tr>\n",
              "    <tr>\n",
              "      <th>3</th>\n",
              "      <td>Male</td>\n",
              "      <td>71.730978</td>\n",
              "      <td>220.042470</td>\n",
              "    </tr>\n",
              "    <tr>\n",
              "      <th>4</th>\n",
              "      <td>Male</td>\n",
              "      <td>69.881796</td>\n",
              "      <td>206.349801</td>\n",
              "    </tr>\n",
              "  </tbody>\n",
              "</table>\n",
              "</div>"
            ],
            "text/plain": [
              "  Gender     Height      Weight\n",
              "0   Male  73.847017  241.893563\n",
              "1   Male  68.781904  162.310473\n",
              "2   Male  74.110105  212.740856\n",
              "3   Male  71.730978  220.042470\n",
              "4   Male  69.881796  206.349801"
            ]
          },
          "metadata": {},
          "execution_count": 6
        }
      ]
    },
    {
      "cell_type": "markdown",
      "metadata": {
        "id": "zFtg_cm5yBSq"
      },
      "source": [
        "*Check for missing values*"
      ]
    },
    {
      "cell_type": "code",
      "metadata": {
        "colab": {
          "base_uri": "https://localhost:8080/"
        },
        "id": "RRA3WFerxQ3T",
        "outputId": "84b91b79-4919-407a-a7cb-5bcb205ae8b8"
      },
      "source": [
        "dataset.isnull().sum()"
      ],
      "execution_count": null,
      "outputs": [
        {
          "output_type": "execute_result",
          "data": {
            "text/plain": [
              "Gender    0\n",
              "Height    0\n",
              "Weight    0\n",
              "dtype: int64"
            ]
          },
          "metadata": {},
          "execution_count": 7
        }
      ]
    },
    {
      "cell_type": "markdown",
      "metadata": {
        "id": "Ba26Xry9yS-Y"
      },
      "source": [
        "*check for the dimensions of the dataset*"
      ]
    },
    {
      "cell_type": "code",
      "metadata": {
        "colab": {
          "base_uri": "https://localhost:8080/"
        },
        "id": "iWti5O7DxQ6N",
        "outputId": "4c289cc8-a891-4e7f-f1c2-2bc04b15582c"
      },
      "source": [
        "dataset.shape"
      ],
      "execution_count": null,
      "outputs": [
        {
          "output_type": "execute_result",
          "data": {
            "text/plain": [
              "(10000, 3)"
            ]
          },
          "metadata": {},
          "execution_count": 8
        }
      ]
    },
    {
      "cell_type": "markdown",
      "metadata": {
        "id": "Whe-DRmmyfWz"
      },
      "source": [
        "Check Correlation between each Variables"
      ]
    },
    {
      "cell_type": "code",
      "metadata": {
        "colab": {
          "base_uri": "https://localhost:8080/",
          "height": 295
        },
        "id": "SrvNYKfHxQ9R",
        "outputId": "0dbd1a92-0e1e-433a-ee6c-efb82ecc56ff"
      },
      "source": [
        "#Plot Gender vs Weight\n",
        "\n",
        "x1 = dataset.iloc[:, 0].values\n",
        "y1 = dataset.iloc[:, 2].values\n",
        "plt.scatter(x1, y1, label = 'Gender',color = 'Purple',s = 50)\n",
        "plt.xlabel('Gender')\n",
        "plt.ylabel('Weight')\n",
        "plt.title('Gender vs Weight')\n",
        "plt.legend()\n",
        "plt.show()"
      ],
      "execution_count": null,
      "outputs": [
        {
          "output_type": "display_data",
          "data": {
            "image/png": "[encoded data removed]",
            "text/plain": [
              "<Figure size 432x288 with 1 Axes>"
            ]
          },
          "metadata": {
            "needs_background": "light"
          }
        }
      ]
    },
    {
      "cell_type": "markdown",
      "metadata": {
        "id": "lvFvACe00Vxi"
      },
      "source": [
        "In the above plot , we can say that Weight is not related to Gender\n",
        "So, Gender variable is not useful for our prediction."
      ]
    },
    {
      "cell_type": "code",
      "metadata": {
        "colab": {
          "base_uri": "https://localhost:8080/",
          "height": 295
        },
        "id": "H7UD6DdkxRAO",
        "outputId": "5603efaf-368b-41db-9363-615accc0d11e"
      },
      "source": [
        "#Plot Height vs Weight\n",
        "\n",
        "x2 = dataset.iloc[:, 1].values\n",
        "y2 = dataset.iloc[:, 2].values\n",
        "plt.scatter(x2, y2, label = 'Height',color = 'Green',s = 50)\n",
        "plt.xlabel('Height')\n",
        "plt.ylabel('Weight')\n",
        "plt.title('Height vs Weight')\n",
        "plt.legend(loc = \"lower right\")\n",
        "plt.show()"
      ],
      "execution_count": null,
      "outputs": [
        {
          "output_type": "display_data",
          "data": {
            "image/png": "[encoded data removed]",
            "text/plain": [
              "<Figure size 432x288 with 1 Axes>"
            ]
          },
          "metadata": {
            "needs_background": "light"
          }
        }
      ]
    },
    {
      "cell_type": "markdown",
      "metadata": {
        "id": "tBerf2402AuY"
      },
      "source": [
        "From the above plot we can conclude that Weight and Height are dependent on each other."
      ]
    },
    {
      "cell_type": "code",
      "metadata": {
        "colab": {
          "base_uri": "https://localhost:8080/"
        },
        "id": "8BZNK3FkxRDp",
        "outputId": "cdebc1f4-ce41-4ecc-b9d7-2b5112533d3a"
      },
      "source": [
        "#Seperating the dependent and independent values\n",
        "#X - Independent variable\n",
        "\n",
        "x = dataset.iloc[:, 1:2].values\n",
        "print(x)"
      ],
      "execution_count": null,
      "outputs": [
        {
          "output_type": "stream",
          "name": "stdout",
          "text": [
            "[[73.84701702]\n",
            " [68.78190405]\n",
            " [74.11010539]\n",
            " ...\n",
            " [63.86799221]\n",
            " [69.03424313]\n",
            " [61.94424588]]\n"
          ]
        }
      ]
    },
    {
      "cell_type": "code",
      "metadata": {
        "colab": {
          "base_uri": "https://localhost:8080/"
        },
        "id": "PdQ6Iy-521_Z",
        "outputId": "ce4a266b-e90b-4057-ab66-e9cc829fdb7d"
      },
      "source": [
        "# Y-Dependent or Target variable\n",
        "\n",
        "y = dataset.iloc[:,2].values\n",
        "print(y)"
      ],
      "execution_count": null,
      "outputs": [
        {
          "output_type": "stream",
          "name": "stdout",
          "text": [
            "[241.89356318 162.31047252 212.74085556 ... 128.47531878 163.85246135\n",
            " 113.64910268]\n"
          ]
        }
      ]
    },
    {
      "cell_type": "markdown",
      "metadata": {
        "id": "Tp7H68FL5CFu"
      },
      "source": [
        "# Step 2 -  Splitting the dataset into training and testing set"
      ]
    },
    {
      "cell_type": "code",
      "metadata": {
        "id": "MIoLW3F-22CC"
      },
      "source": [
        "from sklearn.model_selection import train_test_split\n",
        "x_train, x_test , y_train, y_test = train_test_split(x, y,test_size = 0.2, random_state = 123 )"
      ],
      "execution_count": null,
      "outputs": []
    },
    {
      "cell_type": "markdown",
      "metadata": {
        "id": "amJ8SoUZ6Xlv"
      },
      "source": [
        "# Step 3- Buiding a linear model"
      ]
    },
    {
      "cell_type": "code",
      "metadata": {
        "id": "UYfoTxPi22E_"
      },
      "source": [
        "# Creating linear regression model\n",
        "\n",
        "from sklearn.linear_model import LinearRegression\n",
        "lin_reg = LinearRegression()\n",
        "lin_reg.fit(x_train , y_train)\n",
        "\n",
        "# Predicting the test set\n",
        "y_pred = lin_reg.predict(x_test)"
      ],
      "execution_count": null,
      "outputs": []
    },
    {
      "cell_type": "markdown",
      "metadata": {
        "id": "cBsz77927Jxj"
      },
      "source": [
        "# Step 4 - Visualise the Result"
      ]
    },
    {
      "cell_type": "code",
      "metadata": {
        "colab": {
          "base_uri": "https://localhost:8080/",
          "height": 295
        },
        "id": "-Jk3Uvg27LWL",
        "outputId": "1150b158-be5e-4751-c695-1a77803e3714"
      },
      "source": [
        "#Visualizing the Training set Result\n",
        "\n",
        "plt.scatter(x_train, y_train, color = 'cyan')\n",
        "plt.plot(x_train, lin_reg.predict(x_train), color = 'blue')\n",
        "plt.title('Height vs Weight (Training set)')\n",
        "plt.xlabel('Height')\n",
        "plt.ylabel('Weight')\n",
        "plt.show()"
      ],
      "execution_count": null,
      "outputs": [
        {
          "output_type": "display_data",
          "data": {
            "image/png": "[encoded data removed]",
            "text/plain": [
              "<Figure size 432x288 with 1 Axes>"
            ]
          },
          "metadata": {
            "needs_background": "light"
          }
        }
      ]
    },
    {
      "cell_type": "code",
      "metadata": {
        "colab": {
          "base_uri": "https://localhost:8080/",
          "height": 295
        },
        "id": "gPKtRDoU22Is",
        "outputId": "ad1b34d8-1502-4cb4-f5eb-422cddbd98ec"
      },
      "source": [
        "# Visualising the Test set Result\n",
        "\n",
        "plt.scatter(x_test, y_test, color = 'pink')\n",
        "plt.plot(x_train, lin_reg.predict(x_train), color = 'blue')\n",
        "plt.title('Height vs weight (Test set)')\n",
        "plt.xlabel('Height')\n",
        "plt.ylabel('Weight')\n",
        "plt.show()\n"
      ],
      "execution_count": null,
      "outputs": [
        {
          "output_type": "display_data",
          "data": {
            "image/png": "[encoded data removed]",
            "text/plain": [
              "<Figure size 432x288 with 1 Axes>"
            ]
          },
          "metadata": {
            "needs_background": "light"
          }
        }
      ]
    },
    {
      "cell_type": "markdown",
      "metadata": {
        "id": "7EAObwtZ9_hh"
      },
      "source": [
        "# Step 5 - check the Accuracy"
      ]
    },
    {
      "cell_type": "code",
      "metadata": {
        "colab": {
          "base_uri": "https://localhost:8080/"
        },
        "id": "dbMk_BGf9_3W",
        "outputId": "a3c31a01-01ff-44d2-8fe3-f144e9c91850"
      },
      "source": [
        "# Predicting the Test set results\n",
        "\n",
        "y_pred = lin_reg.predict(x_test)\n",
        "print('Coefficients: ', lin_reg.coef_)\n",
        "\n",
        "# The mean squared error\n",
        "\n",
        "print(\"Mean squared error: %.2f\" % np.mean((lin_reg.predict(x_test) - y_test) ** 2))\n",
        "\n",
        "# Explained variance score: 1 is perfect prediction\n",
        "\n",
        "print('Variance score: %.2f' % lin_reg.score(x_test, y_test))"
      ],
      "execution_count": null,
      "outputs": [
        {
          "output_type": "stream",
          "name": "stdout",
          "text": [
            "Coefficients:  [7.72896259]\n",
            "Mean squared error: 143.23\n",
            "Variance score: 0.86\n"
          ]
        }
      ]
    }
  ]
}